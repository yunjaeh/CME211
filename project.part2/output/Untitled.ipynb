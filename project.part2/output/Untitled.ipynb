{
 "cells": [
  {
   "cell_type": "code",
   "execution_count": 8,
   "metadata": {},
   "outputs": [],
   "source": [
    "import matplotlib.pyplot as plt\n",
    "from matplotlib import cm\n",
    "import numpy as np"
   ]
  },
  {
   "cell_type": "code",
   "execution_count": 82,
   "metadata": {},
   "outputs": [
    {
     "name": "stdout",
     "output_type": "stream",
     "text": [
      "T_h:  120.0 T_c:  30.0\n",
      "mean Temperature:  81.84029969007422\n",
      "201\n"
     ]
    },
    {
     "data": {
      "image/png": "[encoded data removed]",
      "text/plain": [
       "<Figure size 432x288 with 2 Axes>"
      ]
     },
     "metadata": {
      "needs_background": "light"
     },
     "output_type": "display_data"
    }
   ],
   "source": [
    "# file_input = open(input_file,\"r\")\n",
    "# T = np.loadtxt(solution_file,dtype=float)\n",
    "\n",
    "file_input = open(\"input2.txt\",\"r\")\n",
    "T = np.loadtxt('solution2_161.txt',dtype=float)\n",
    "\n",
    "# open and read input file\n",
    "\n",
    "inp_line_1 = file_input.readline().split()\n",
    "inp_line_2 = file_input.readline().split()\n",
    "file_input.close()\n",
    "\n",
    "length = float(inp_line_1[0])\n",
    "width = float(inp_line_1[1])\n",
    "h = float(inp_line_1[2])\n",
    "T_c = float(inp_line_2[0])\n",
    "T_h = float(inp_line_2[1])\n",
    "\n",
    "nx = int(length/h+1)\n",
    "ny = int(width/h+1)\n",
    "\n",
    "# read solution file\n",
    "\n",
    "\n",
    "# print(\"Input file processed: \", input_file)\n",
    "print(\"T_h: \",T_h, \"T_c: \",T_c)\n",
    "print(\"mean Temperature: \", T.mean())\n",
    "\n",
    "# print('nx=',nx,', ny=',ny)\n",
    "# print(len(data[0]),len(data))\n",
    "\n",
    "# x and y coordinates in linear space\n",
    "x = np.linspace(0,length,nx)\n",
    "y = np.linspace(0,width,ny)\n",
    "\n",
    "# x and y coordinates in meshgrid\n",
    "X, Y = np.meshgrid(x,y)\n",
    "\n",
    "T_mean = T.mean()\n",
    "\n",
    "x_iso_T = []\n",
    "for i in range(0,nx):\n",
    "#     print(np.interp(T_mean,T[:,i],y))\n",
    "    x_iso_T.append(np.interp(T_mean,T[:,i],y))\n",
    "    \n",
    "print(len(x_iso_T))\n",
    "    \n",
    "\n",
    "T = data\n",
    "fig, ax = plt.subplots()\n",
    "cs = ax.contourf(X,Y,data, 100,cmap=cm.jet )\n",
    "plt.plot(x,x_iso_T,'k')\n",
    "ax.set_aspect('equal','box')\n",
    "cbar = fig.colorbar(cs)\n",
    "\n",
    "plt.show()"
   ]
  },
  {
   "cell_type": "code",
   "execution_count": 62,
   "metadata": {},
   "outputs": [
    {
     "name": "stdout",
     "output_type": "stream",
     "text": [
      "nx= 11 , ny= 11\n",
      "11 11\n"
     ]
    },
    {
     "ename": "TypeError",
     "evalue": "'int' object is not callable",
     "output_type": "error",
     "traceback": [
      "\u001b[0;31m---------------------------------------------------------------------------\u001b[0m",
      "\u001b[0;31mTypeError\u001b[0m                                 Traceback (most recent call last)",
      "\u001b[0;32m<ipython-input-62-f140118ad701>\u001b[0m in \u001b[0;36m<module>\u001b[0;34m()\u001b[0m\n\u001b[1;32m      7\u001b[0m \u001b[0mX\u001b[0m\u001b[0;34m,\u001b[0m \u001b[0mY\u001b[0m \u001b[0;34m=\u001b[0m \u001b[0mnp\u001b[0m\u001b[0;34m.\u001b[0m\u001b[0mmeshgrid\u001b[0m\u001b[0;34m(\u001b[0m\u001b[0mx\u001b[0m\u001b[0;34m,\u001b[0m\u001b[0my\u001b[0m\u001b[0;34m)\u001b[0m\u001b[0;34m\u001b[0m\u001b[0m\n\u001b[1;32m      8\u001b[0m \u001b[0;34m\u001b[0m\u001b[0m\n\u001b[0;32m----> 9\u001b[0;31m \u001b[0mprint\u001b[0m\u001b[0;34m(\u001b[0m\u001b[0mT\u001b[0m\u001b[0;34m.\u001b[0m\u001b[0mmean\u001b[0m\u001b[0;34m(\u001b[0m\u001b[0;34m)\u001b[0m\u001b[0;34m.\u001b[0m\u001b[0mndim\u001b[0m\u001b[0;34m(\u001b[0m\u001b[0;34m)\u001b[0m\u001b[0;34m)\u001b[0m\u001b[0;34m\u001b[0m\u001b[0m\n\u001b[0m\u001b[1;32m     10\u001b[0m \u001b[0mprint\u001b[0m\u001b[0;34m(\u001b[0m\u001b[0mT\u001b[0m\u001b[0;34m.\u001b[0m\u001b[0mmean\u001b[0m\u001b[0;34m(\u001b[0m\u001b[0;34m)\u001b[0m\u001b[0;34m.\u001b[0m\u001b[0mmean\u001b[0m\u001b[0;34m(\u001b[0m\u001b[0;34m)\u001b[0m\u001b[0;34m)\u001b[0m\u001b[0;34m\u001b[0m\u001b[0m\n\u001b[1;32m     11\u001b[0m \u001b[0mT\u001b[0m \u001b[0;34m=\u001b[0m \u001b[0mdata\u001b[0m\u001b[0;34m\u001b[0m\u001b[0m\n",
      "\u001b[0;31mTypeError\u001b[0m: 'int' object is not callable"
     ]
    }
   ],
   "source": []
  },
  {
   "cell_type": "code",
   "execution_count": 42,
   "metadata": {},
   "outputs": [
    {
     "name": "stdout",
     "output_type": "stream",
     "text": [
      "[  0.   0.   0.   0.   0.   0.   0.   0.   0.   0.   0.  20.  20.  20.\n",
      "  20.  20.  20.  20.  20.  20.  20.  20.  40.  40.  40.  40.  40.  40.\n",
      "  40.  40.  40.  40.  40.  60.  60.  60.  60.  60.  60.  60.  60.  60.\n",
      "  60.  60.  80.  80.  80.  80.  80.  80.  80.  80.  80.  80.  80. 100.\n",
      " 100. 100. 100. 100. 100. 100. 100. 100. 100. 100. 120. 120. 120. 120.\n",
      " 120. 120. 120. 120. 120. 120. 120. 140. 140. 140. 140. 140. 140. 140.\n",
      " 140. 140. 140. 140. 160. 160. 160. 160. 160. 160. 160. 160. 160. 160.\n",
      " 160. 180. 180. 180. 180. 180. 180. 180. 180. 180. 180. 180. 200. 200.\n",
      " 200. 200. 200. 200. 200. 200. 200. 200. 200.]\n"
     ]
    },
    {
     "data": {
      "image/png": "[encoded data removed]",
      "text/plain": [
       "<Figure size 432x288 with 2 Axes>"
      ]
     },
     "metadata": {
      "needs_background": "light"
     },
     "output_type": "display_data"
    }
   ],
   "source": [
    "data = np.loadtxt('RESULT_input1_140',dtype=float)\n",
    "# print(data)\n",
    "x=data[:,0]\n",
    "y=data[:,1]\n",
    "T=data[:,2]\n",
    "print(T)\n",
    "x_sq = np.zeros((nx,ny))\n",
    "y_sq = np.zeros((nx,ny))\n",
    "T_sq = np.zeros((nx,ny))\n",
    "\n",
    "for i in range(0,ny):\n",
    "    x_sq[i,0:nx] = x[i*nx:(i+1)*nx]\n",
    "    y_sq[i,0:nx] = y[i*nx:(i+1)*nx]\n",
    "    T_sq[i,0:nx] = T[i*nx:(i+1)*nx]\n",
    "# plt.contourf(x,y,T)\n",
    "\n",
    "# print(x_sq)\n",
    "# print(y_sq)\n",
    "# print(T_sq)\n",
    "fig, ax = plt.subplots()\n",
    "cs = ax.contourf(x_sq,y_sq,T_sq, cmap=cm.jet )\n",
    "cbar = fig.colorbar(cs)\n"
   ]
  }
 ],
 "metadata": {
  "kernelspec": {
   "display_name": "Python 3",
   "language": "python",
   "name": "python3"
  },
  "language_info": {
   "codemirror_mode": {
    "name": "ipython",
    "version": 3
   },
   "file_extension": ".py",
   "mimetype": "text/x-python",
   "name": "python",
   "nbconvert_exporter": "python",
   "pygments_lexer": "ipython3",
   "version": "3.7.0"
  }
 },
 "nbformat": 4,
 "nbformat_minor": 2
}
